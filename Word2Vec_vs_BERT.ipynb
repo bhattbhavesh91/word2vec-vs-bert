{
  "nbformat": 4,
  "nbformat_minor": 0,
  "metadata": {
    "colab": {
      "name": "Word2Vec_vs_BERT.ipynb",
      "provenance": [],
      "collapsed_sections": []
    },
    "kernelspec": {
      "name": "python3",
      "display_name": "Python 3"
    },
    "widgets": {
      "application/vnd.jupyter.widget-state+json": {
        "34e324e982464c4a9e1f830447848a0a": {
          "model_module": "@jupyter-widgets/controls",
          "model_name": "HBoxModel",
          "state": {
            "_view_name": "HBoxView",
            "_dom_classes": [],
            "_model_name": "HBoxModel",
            "_view_module": "@jupyter-widgets/controls",
            "_model_module_version": "1.5.0",
            "_view_count": null,
            "_view_module_version": "1.5.0",
            "box_style": "",
            "layout": "IPY_MODEL_f401be23e95d47dea2817de3bc440a2d",
            "_model_module": "@jupyter-widgets/controls",
            "children": [
              "IPY_MODEL_0aa00f9561314864bc487d0d09505751",
              "IPY_MODEL_4495c3d4b166480d95cd59b1c230b278"
            ]
          }
        },
        "f401be23e95d47dea2817de3bc440a2d": {
          "model_module": "@jupyter-widgets/base",
          "model_name": "LayoutModel",
          "state": {
            "_view_name": "LayoutView",
            "grid_template_rows": null,
            "right": null,
            "justify_content": null,
            "_view_module": "@jupyter-widgets/base",
            "overflow": null,
            "_model_module_version": "1.2.0",
            "_view_count": null,
            "flex_flow": null,
            "width": null,
            "min_width": null,
            "border": null,
            "align_items": null,
            "bottom": null,
            "_model_module": "@jupyter-widgets/base",
            "top": null,
            "grid_column": null,
            "overflow_y": null,
            "overflow_x": null,
            "grid_auto_flow": null,
            "grid_area": null,
            "grid_template_columns": null,
            "flex": null,
            "_model_name": "LayoutModel",
            "justify_items": null,
            "grid_row": null,
            "max_height": null,
            "align_content": null,
            "visibility": null,
            "align_self": null,
            "height": null,
            "min_height": null,
            "padding": null,
            "grid_auto_rows": null,
            "grid_gap": null,
            "max_width": null,
            "order": null,
            "_view_module_version": "1.2.0",
            "grid_template_areas": null,
            "object_position": null,
            "object_fit": null,
            "grid_auto_columns": null,
            "margin": null,
            "display": null,
            "left": null
          }
        },
        "0aa00f9561314864bc487d0d09505751": {
          "model_module": "@jupyter-widgets/controls",
          "model_name": "FloatProgressModel",
          "state": {
            "_view_name": "ProgressView",
            "style": "IPY_MODEL_e5ec602ceb6340b4828494b3d1d2e1b5",
            "_dom_classes": [],
            "description": "Downloading: 100%",
            "_model_name": "FloatProgressModel",
            "bar_style": "success",
            "max": 625,
            "_view_module": "@jupyter-widgets/controls",
            "_model_module_version": "1.5.0",
            "value": 625,
            "_view_count": null,
            "_view_module_version": "1.5.0",
            "orientation": "horizontal",
            "min": 0,
            "description_tooltip": null,
            "_model_module": "@jupyter-widgets/controls",
            "layout": "IPY_MODEL_4e653735a06a4f44893b07f222f8ef88"
          }
        },
        "4495c3d4b166480d95cd59b1c230b278": {
          "model_module": "@jupyter-widgets/controls",
          "model_name": "HTMLModel",
          "state": {
            "_view_name": "HTMLView",
            "style": "IPY_MODEL_7a61c4505e134734a6f55223f556b799",
            "_dom_classes": [],
            "description": "",
            "_model_name": "HTMLModel",
            "placeholder": "​",
            "_view_module": "@jupyter-widgets/controls",
            "_model_module_version": "1.5.0",
            "value": " 625/625 [00:01&lt;00:00, 579B/s]",
            "_view_count": null,
            "_view_module_version": "1.5.0",
            "description_tooltip": null,
            "_model_module": "@jupyter-widgets/controls",
            "layout": "IPY_MODEL_d75c554415f5428fb77090a3f572270a"
          }
        },
        "e5ec602ceb6340b4828494b3d1d2e1b5": {
          "model_module": "@jupyter-widgets/controls",
          "model_name": "ProgressStyleModel",
          "state": {
            "_view_name": "StyleView",
            "_model_name": "ProgressStyleModel",
            "description_width": "initial",
            "_view_module": "@jupyter-widgets/base",
            "_model_module_version": "1.5.0",
            "_view_count": null,
            "_view_module_version": "1.2.0",
            "bar_color": null,
            "_model_module": "@jupyter-widgets/controls"
          }
        },
        "4e653735a06a4f44893b07f222f8ef88": {
          "model_module": "@jupyter-widgets/base",
          "model_name": "LayoutModel",
          "state": {
            "_view_name": "LayoutView",
            "grid_template_rows": null,
            "right": null,
            "justify_content": null,
            "_view_module": "@jupyter-widgets/base",
            "overflow": null,
            "_model_module_version": "1.2.0",
            "_view_count": null,
            "flex_flow": null,
            "width": null,
            "min_width": null,
            "border": null,
            "align_items": null,
            "bottom": null,
            "_model_module": "@jupyter-widgets/base",
            "top": null,
            "grid_column": null,
            "overflow_y": null,
            "overflow_x": null,
            "grid_auto_flow": null,
            "grid_area": null,
            "grid_template_columns": null,
            "flex": null,
            "_model_name": "LayoutModel",
            "justify_items": null,
            "grid_row": null,
            "max_height": null,
            "align_content": null,
            "visibility": null,
            "align_self": null,
            "height": null,
            "min_height": null,
            "padding": null,
            "grid_auto_rows": null,
            "grid_gap": null,
            "max_width": null,
            "order": null,
            "_view_module_version": "1.2.0",
            "grid_template_areas": null,
            "object_position": null,
            "object_fit": null,
            "grid_auto_columns": null,
            "margin": null,
            "display": null,
            "left": null
          }
        },
        "7a61c4505e134734a6f55223f556b799": {
          "model_module": "@jupyter-widgets/controls",
          "model_name": "DescriptionStyleModel",
          "state": {
            "_view_name": "StyleView",
            "_model_name": "DescriptionStyleModel",
            "description_width": "",
            "_view_module": "@jupyter-widgets/base",
            "_model_module_version": "1.5.0",
            "_view_count": null,
            "_view_module_version": "1.2.0",
            "_model_module": "@jupyter-widgets/controls"
          }
        },
        "d75c554415f5428fb77090a3f572270a": {
          "model_module": "@jupyter-widgets/base",
          "model_name": "LayoutModel",
          "state": {
            "_view_name": "LayoutView",
            "grid_template_rows": null,
            "right": null,
            "justify_content": null,
            "_view_module": "@jupyter-widgets/base",
            "overflow": null,
            "_model_module_version": "1.2.0",
            "_view_count": null,
            "flex_flow": null,
            "width": null,
            "min_width": null,
            "border": null,
            "align_items": null,
            "bottom": null,
            "_model_module": "@jupyter-widgets/base",
            "top": null,
            "grid_column": null,
            "overflow_y": null,
            "overflow_x": null,
            "grid_auto_flow": null,
            "grid_area": null,
            "grid_template_columns": null,
            "flex": null,
            "_model_name": "LayoutModel",
            "justify_items": null,
            "grid_row": null,
            "max_height": null,
            "align_content": null,
            "visibility": null,
            "align_self": null,
            "height": null,
            "min_height": null,
            "padding": null,
            "grid_auto_rows": null,
            "grid_gap": null,
            "max_width": null,
            "order": null,
            "_view_module_version": "1.2.0",
            "grid_template_areas": null,
            "object_position": null,
            "object_fit": null,
            "grid_auto_columns": null,
            "margin": null,
            "display": null,
            "left": null
          }
        },
        "874d7d1a067a4cb384862ebdc19ae4b3": {
          "model_module": "@jupyter-widgets/controls",
          "model_name": "HBoxModel",
          "state": {
            "_view_name": "HBoxView",
            "_dom_classes": [],
            "_model_name": "HBoxModel",
            "_view_module": "@jupyter-widgets/controls",
            "_model_module_version": "1.5.0",
            "_view_count": null,
            "_view_module_version": "1.5.0",
            "box_style": "",
            "layout": "IPY_MODEL_0c6d47ee29ba491c89cef70c674ac3a7",
            "_model_module": "@jupyter-widgets/controls",
            "children": [
              "IPY_MODEL_7b8ee12a5e904bda8f23992c8af89c5b",
              "IPY_MODEL_d85c666b85194bf2ba547ea4240832ea"
            ]
          }
        },
        "0c6d47ee29ba491c89cef70c674ac3a7": {
          "model_module": "@jupyter-widgets/base",
          "model_name": "LayoutModel",
          "state": {
            "_view_name": "LayoutView",
            "grid_template_rows": null,
            "right": null,
            "justify_content": null,
            "_view_module": "@jupyter-widgets/base",
            "overflow": null,
            "_model_module_version": "1.2.0",
            "_view_count": null,
            "flex_flow": null,
            "width": null,
            "min_width": null,
            "border": null,
            "align_items": null,
            "bottom": null,
            "_model_module": "@jupyter-widgets/base",
            "top": null,
            "grid_column": null,
            "overflow_y": null,
            "overflow_x": null,
            "grid_auto_flow": null,
            "grid_area": null,
            "grid_template_columns": null,
            "flex": null,
            "_model_name": "LayoutModel",
            "justify_items": null,
            "grid_row": null,
            "max_height": null,
            "align_content": null,
            "visibility": null,
            "align_self": null,
            "height": null,
            "min_height": null,
            "padding": null,
            "grid_auto_rows": null,
            "grid_gap": null,
            "max_width": null,
            "order": null,
            "_view_module_version": "1.2.0",
            "grid_template_areas": null,
            "object_position": null,
            "object_fit": null,
            "grid_auto_columns": null,
            "margin": null,
            "display": null,
            "left": null
          }
        },
        "7b8ee12a5e904bda8f23992c8af89c5b": {
          "model_module": "@jupyter-widgets/controls",
          "model_name": "FloatProgressModel",
          "state": {
            "_view_name": "ProgressView",
            "style": "IPY_MODEL_10a361c7e1a0490894e173f1b82fe99a",
            "_dom_classes": [],
            "description": "Downloading: 100%",
            "_model_name": "FloatProgressModel",
            "bar_style": "success",
            "max": 995526,
            "_view_module": "@jupyter-widgets/controls",
            "_model_module_version": "1.5.0",
            "value": 995526,
            "_view_count": null,
            "_view_module_version": "1.5.0",
            "orientation": "horizontal",
            "min": 0,
            "description_tooltip": null,
            "_model_module": "@jupyter-widgets/controls",
            "layout": "IPY_MODEL_af52159d18f9425fb6c079ce5e03cc84"
          }
        },
        "d85c666b85194bf2ba547ea4240832ea": {
          "model_module": "@jupyter-widgets/controls",
          "model_name": "HTMLModel",
          "state": {
            "_view_name": "HTMLView",
            "style": "IPY_MODEL_6e682875941240cab8e915f882cf628d",
            "_dom_classes": [],
            "description": "",
            "_model_name": "HTMLModel",
            "placeholder": "​",
            "_view_module": "@jupyter-widgets/controls",
            "_model_module_version": "1.5.0",
            "value": " 996k/996k [00:00&lt;00:00, 2.12MB/s]",
            "_view_count": null,
            "_view_module_version": "1.5.0",
            "description_tooltip": null,
            "_model_module": "@jupyter-widgets/controls",
            "layout": "IPY_MODEL_f029a316c8ca40d2a25d3531ca3b9b72"
          }
        },
        "10a361c7e1a0490894e173f1b82fe99a": {
          "model_module": "@jupyter-widgets/controls",
          "model_name": "ProgressStyleModel",
          "state": {
            "_view_name": "StyleView",
            "_model_name": "ProgressStyleModel",
            "description_width": "initial",
            "_view_module": "@jupyter-widgets/base",
            "_model_module_version": "1.5.0",
            "_view_count": null,
            "_view_module_version": "1.2.0",
            "bar_color": null,
            "_model_module": "@jupyter-widgets/controls"
          }
        },
        "af52159d18f9425fb6c079ce5e03cc84": {
          "model_module": "@jupyter-widgets/base",
          "model_name": "LayoutModel",
          "state": {
            "_view_name": "LayoutView",
            "grid_template_rows": null,
            "right": null,
            "justify_content": null,
            "_view_module": "@jupyter-widgets/base",
            "overflow": null,
            "_model_module_version": "1.2.0",
            "_view_count": null,
            "flex_flow": null,
            "width": null,
            "min_width": null,
            "border": null,
            "align_items": null,
            "bottom": null,
            "_model_module": "@jupyter-widgets/base",
            "top": null,
            "grid_column": null,
            "overflow_y": null,
            "overflow_x": null,
            "grid_auto_flow": null,
            "grid_area": null,
            "grid_template_columns": null,
            "flex": null,
            "_model_name": "LayoutModel",
            "justify_items": null,
            "grid_row": null,
            "max_height": null,
            "align_content": null,
            "visibility": null,
            "align_self": null,
            "height": null,
            "min_height": null,
            "padding": null,
            "grid_auto_rows": null,
            "grid_gap": null,
            "max_width": null,
            "order": null,
            "_view_module_version": "1.2.0",
            "grid_template_areas": null,
            "object_position": null,
            "object_fit": null,
            "grid_auto_columns": null,
            "margin": null,
            "display": null,
            "left": null
          }
        },
        "6e682875941240cab8e915f882cf628d": {
          "model_module": "@jupyter-widgets/controls",
          "model_name": "DescriptionStyleModel",
          "state": {
            "_view_name": "StyleView",
            "_model_name": "DescriptionStyleModel",
            "description_width": "",
            "_view_module": "@jupyter-widgets/base",
            "_model_module_version": "1.5.0",
            "_view_count": null,
            "_view_module_version": "1.2.0",
            "_model_module": "@jupyter-widgets/controls"
          }
        },
        "f029a316c8ca40d2a25d3531ca3b9b72": {
          "model_module": "@jupyter-widgets/base",
          "model_name": "LayoutModel",
          "state": {
            "_view_name": "LayoutView",
            "grid_template_rows": null,
            "right": null,
            "justify_content": null,
            "_view_module": "@jupyter-widgets/base",
            "overflow": null,
            "_model_module_version": "1.2.0",
            "_view_count": null,
            "flex_flow": null,
            "width": null,
            "min_width": null,
            "border": null,
            "align_items": null,
            "bottom": null,
            "_model_module": "@jupyter-widgets/base",
            "top": null,
            "grid_column": null,
            "overflow_y": null,
            "overflow_x": null,
            "grid_auto_flow": null,
            "grid_area": null,
            "grid_template_columns": null,
            "flex": null,
            "_model_name": "LayoutModel",
            "justify_items": null,
            "grid_row": null,
            "max_height": null,
            "align_content": null,
            "visibility": null,
            "align_self": null,
            "height": null,
            "min_height": null,
            "padding": null,
            "grid_auto_rows": null,
            "grid_gap": null,
            "max_width": null,
            "order": null,
            "_view_module_version": "1.2.0",
            "grid_template_areas": null,
            "object_position": null,
            "object_fit": null,
            "grid_auto_columns": null,
            "margin": null,
            "display": null,
            "left": null
          }
        },
        "3591b3d8d10c4b3591510e1f02ec8b8e": {
          "model_module": "@jupyter-widgets/controls",
          "model_name": "HBoxModel",
          "state": {
            "_view_name": "HBoxView",
            "_dom_classes": [],
            "_model_name": "HBoxModel",
            "_view_module": "@jupyter-widgets/controls",
            "_model_module_version": "1.5.0",
            "_view_count": null,
            "_view_module_version": "1.5.0",
            "box_style": "",
            "layout": "IPY_MODEL_3b7303de407e4d599d677dee214b70f8",
            "_model_module": "@jupyter-widgets/controls",
            "children": [
              "IPY_MODEL_3fa33ae4457e4f61a70c1ea49cc82c4e",
              "IPY_MODEL_0239a1e9ba31436797a2500eda41d048"
            ]
          }
        },
        "3b7303de407e4d599d677dee214b70f8": {
          "model_module": "@jupyter-widgets/base",
          "model_name": "LayoutModel",
          "state": {
            "_view_name": "LayoutView",
            "grid_template_rows": null,
            "right": null,
            "justify_content": null,
            "_view_module": "@jupyter-widgets/base",
            "overflow": null,
            "_model_module_version": "1.2.0",
            "_view_count": null,
            "flex_flow": null,
            "width": null,
            "min_width": null,
            "border": null,
            "align_items": null,
            "bottom": null,
            "_model_module": "@jupyter-widgets/base",
            "top": null,
            "grid_column": null,
            "overflow_y": null,
            "overflow_x": null,
            "grid_auto_flow": null,
            "grid_area": null,
            "grid_template_columns": null,
            "flex": null,
            "_model_name": "LayoutModel",
            "justify_items": null,
            "grid_row": null,
            "max_height": null,
            "align_content": null,
            "visibility": null,
            "align_self": null,
            "height": null,
            "min_height": null,
            "padding": null,
            "grid_auto_rows": null,
            "grid_gap": null,
            "max_width": null,
            "order": null,
            "_view_module_version": "1.2.0",
            "grid_template_areas": null,
            "object_position": null,
            "object_fit": null,
            "grid_auto_columns": null,
            "margin": null,
            "display": null,
            "left": null
          }
        },
        "3fa33ae4457e4f61a70c1ea49cc82c4e": {
          "model_module": "@jupyter-widgets/controls",
          "model_name": "FloatProgressModel",
          "state": {
            "_view_name": "ProgressView",
            "style": "IPY_MODEL_47a53082935f47c9a3c3d3e36e939464",
            "_dom_classes": [],
            "description": "Downloading: 100%",
            "_model_name": "FloatProgressModel",
            "bar_style": "success",
            "max": 714314041,
            "_view_module": "@jupyter-widgets/controls",
            "_model_module_version": "1.5.0",
            "value": 714314041,
            "_view_count": null,
            "_view_module_version": "1.5.0",
            "orientation": "horizontal",
            "min": 0,
            "description_tooltip": null,
            "_model_module": "@jupyter-widgets/controls",
            "layout": "IPY_MODEL_6c027bb85e2e4e09be7a774abce95fdc"
          }
        },
        "0239a1e9ba31436797a2500eda41d048": {
          "model_module": "@jupyter-widgets/controls",
          "model_name": "HTMLModel",
          "state": {
            "_view_name": "HTMLView",
            "style": "IPY_MODEL_364c8f8ce0f7449a8b362754f01fbf40",
            "_dom_classes": [],
            "description": "",
            "_model_name": "HTMLModel",
            "placeholder": "​",
            "_view_module": "@jupyter-widgets/controls",
            "_model_module_version": "1.5.0",
            "value": " 714M/714M [00:27&lt;00:00, 26.0MB/s]",
            "_view_count": null,
            "_view_module_version": "1.5.0",
            "description_tooltip": null,
            "_model_module": "@jupyter-widgets/controls",
            "layout": "IPY_MODEL_b40e187ea89d4091a38355c10b561b12"
          }
        },
        "47a53082935f47c9a3c3d3e36e939464": {
          "model_module": "@jupyter-widgets/controls",
          "model_name": "ProgressStyleModel",
          "state": {
            "_view_name": "StyleView",
            "_model_name": "ProgressStyleModel",
            "description_width": "initial",
            "_view_module": "@jupyter-widgets/base",
            "_model_module_version": "1.5.0",
            "_view_count": null,
            "_view_module_version": "1.2.0",
            "bar_color": null,
            "_model_module": "@jupyter-widgets/controls"
          }
        },
        "6c027bb85e2e4e09be7a774abce95fdc": {
          "model_module": "@jupyter-widgets/base",
          "model_name": "LayoutModel",
          "state": {
            "_view_name": "LayoutView",
            "grid_template_rows": null,
            "right": null,
            "justify_content": null,
            "_view_module": "@jupyter-widgets/base",
            "overflow": null,
            "_model_module_version": "1.2.0",
            "_view_count": null,
            "flex_flow": null,
            "width": null,
            "min_width": null,
            "border": null,
            "align_items": null,
            "bottom": null,
            "_model_module": "@jupyter-widgets/base",
            "top": null,
            "grid_column": null,
            "overflow_y": null,
            "overflow_x": null,
            "grid_auto_flow": null,
            "grid_area": null,
            "grid_template_columns": null,
            "flex": null,
            "_model_name": "LayoutModel",
            "justify_items": null,
            "grid_row": null,
            "max_height": null,
            "align_content": null,
            "visibility": null,
            "align_self": null,
            "height": null,
            "min_height": null,
            "padding": null,
            "grid_auto_rows": null,
            "grid_gap": null,
            "max_width": null,
            "order": null,
            "_view_module_version": "1.2.0",
            "grid_template_areas": null,
            "object_position": null,
            "object_fit": null,
            "grid_auto_columns": null,
            "margin": null,
            "display": null,
            "left": null
          }
        },
        "364c8f8ce0f7449a8b362754f01fbf40": {
          "model_module": "@jupyter-widgets/controls",
          "model_name": "DescriptionStyleModel",
          "state": {
            "_view_name": "StyleView",
            "_model_name": "DescriptionStyleModel",
            "description_width": "",
            "_view_module": "@jupyter-widgets/base",
            "_model_module_version": "1.5.0",
            "_view_count": null,
            "_view_module_version": "1.2.0",
            "_model_module": "@jupyter-widgets/controls"
          }
        },
        "b40e187ea89d4091a38355c10b561b12": {
          "model_module": "@jupyter-widgets/base",
          "model_name": "LayoutModel",
          "state": {
            "_view_name": "LayoutView",
            "grid_template_rows": null,
            "right": null,
            "justify_content": null,
            "_view_module": "@jupyter-widgets/base",
            "overflow": null,
            "_model_module_version": "1.2.0",
            "_view_count": null,
            "flex_flow": null,
            "width": null,
            "min_width": null,
            "border": null,
            "align_items": null,
            "bottom": null,
            "_model_module": "@jupyter-widgets/base",
            "top": null,
            "grid_column": null,
            "overflow_y": null,
            "overflow_x": null,
            "grid_auto_flow": null,
            "grid_area": null,
            "grid_template_columns": null,
            "flex": null,
            "_model_name": "LayoutModel",
            "justify_items": null,
            "grid_row": null,
            "max_height": null,
            "align_content": null,
            "visibility": null,
            "align_self": null,
            "height": null,
            "min_height": null,
            "padding": null,
            "grid_auto_rows": null,
            "grid_gap": null,
            "max_width": null,
            "order": null,
            "_view_module_version": "1.2.0",
            "grid_template_areas": null,
            "object_position": null,
            "object_fit": null,
            "grid_auto_columns": null,
            "margin": null,
            "display": null,
            "left": null
          }
        }
      }
    }
  },
  "cells": [
    {
      "cell_type": "code",
      "metadata": {
        "colab": {
          "base_uri": "https://localhost:8080/"
        },
        "id": "KJd3zFAFKA1p",
        "outputId": "eddfb3c3-63e0-4857-cc99-7011f37b6a9b"
      },
      "source": [
        "!pip install flair"
      ],
      "execution_count": 1,
      "outputs": [
        {
          "output_type": "stream",
          "text": [
            "Collecting flair\n",
            "\u001b[?25l  Downloading https://files.pythonhosted.org/packages/68/a0/a1b41fa2fcb23ff71ba9148af75211dcccc35b256dea821b36e1ee871848/flair-0.7-py3-none-any.whl (448kB)\n",
            "\u001b[K     |████████████████████████████████| 450kB 7.8MB/s \n",
            "\u001b[?25hCollecting ftfy\n",
            "\u001b[?25l  Downloading https://files.pythonhosted.org/packages/ff/e2/3b51c53dffb1e52d9210ebc01f1fb9f2f6eba9b3201fa971fd3946643c71/ftfy-5.8.tar.gz (64kB)\n",
            "\u001b[K     |████████████████████████████████| 71kB 8.3MB/s \n",
            "\u001b[?25hRequirement already satisfied: python-dateutil>=2.6.1 in /usr/local/lib/python3.6/dist-packages (from flair) (2.8.1)\n",
            "Collecting konoha<5.0.0,>=4.0.0\n",
            "  Downloading https://files.pythonhosted.org/packages/ea/01/47358efec5396fc80f98273c42cbdfe7aab056252b07884ffcc0f118978f/konoha-4.6.2-py3-none-any.whl\n",
            "Collecting janome\n",
            "\u001b[?25l  Downloading https://files.pythonhosted.org/packages/a8/63/98858cbead27df7536c7e300c169da0999e9704d02220dc6700b804eeff0/Janome-0.4.1-py2.py3-none-any.whl (19.7MB)\n",
            "\u001b[K     |████████████████████████████████| 19.7MB 1.2MB/s \n",
            "\u001b[?25hCollecting mpld3==0.3\n",
            "\u001b[?25l  Downloading https://files.pythonhosted.org/packages/91/95/a52d3a83d0a29ba0d6898f6727e9858fe7a43f6c2ce81a5fe7e05f0f4912/mpld3-0.3.tar.gz (788kB)\n",
            "\u001b[K     |████████████████████████████████| 798kB 59.6MB/s \n",
            "\u001b[?25hRequirement already satisfied: gdown in /usr/local/lib/python3.6/dist-packages (from flair) (3.6.4)\n",
            "Collecting deprecated>=1.2.4\n",
            "  Downloading https://files.pythonhosted.org/packages/76/a1/05d7f62f956d77b23a640efc650f80ce24483aa2f85a09c03fb64f49e879/Deprecated-1.2.10-py2.py3-none-any.whl\n",
            "Requirement already satisfied: tabulate in /usr/local/lib/python3.6/dist-packages (from flair) (0.8.7)\n",
            "Requirement already satisfied: torch>=1.1.0 in /usr/local/lib/python3.6/dist-packages (from flair) (1.7.0+cu101)\n",
            "Collecting transformers<=3.5.1,>=3.5.0\n",
            "\u001b[?25l  Downloading https://files.pythonhosted.org/packages/3a/83/e74092e7f24a08d751aa59b37a9fc572b2e4af3918cb66f7766c3affb1b4/transformers-3.5.1-py3-none-any.whl (1.3MB)\n",
            "\u001b[K     |████████████████████████████████| 1.3MB 41.2MB/s \n",
            "\u001b[?25hCollecting sentencepiece<=0.1.91\n",
            "\u001b[?25l  Downloading https://files.pythonhosted.org/packages/d4/a4/d0a884c4300004a78cca907a6ff9a5e9fe4f090f5d95ab341c53d28cbc58/sentencepiece-0.1.91-cp36-cp36m-manylinux1_x86_64.whl (1.1MB)\n",
            "\u001b[K     |████████████████████████████████| 1.1MB 21.1MB/s \n",
            "\u001b[?25hRequirement already satisfied: matplotlib>=2.2.3 in /usr/local/lib/python3.6/dist-packages (from flair) (3.2.2)\n",
            "Requirement already satisfied: regex in /usr/local/lib/python3.6/dist-packages (from flair) (2019.12.20)\n",
            "Requirement already satisfied: lxml in /usr/local/lib/python3.6/dist-packages (from flair) (4.2.6)\n",
            "Requirement already satisfied: tqdm>=4.26.0 in /usr/local/lib/python3.6/dist-packages (from flair) (4.41.1)\n",
            "Requirement already satisfied: scikit-learn>=0.21.3 in /usr/local/lib/python3.6/dist-packages (from flair) (0.22.2.post1)\n",
            "Collecting sqlitedict>=1.6.0\n",
            "  Downloading https://files.pythonhosted.org/packages/5c/2d/b1d99e9ad157dd7de9cd0d36a8a5876b13b55e4b75f7498bc96035fb4e96/sqlitedict-1.7.0.tar.gz\n",
            "Collecting langdetect\n",
            "\u001b[?25l  Downloading https://files.pythonhosted.org/packages/56/a3/8407c1e62d5980188b4acc45ef3d94b933d14a2ebc9ef3505f22cf772570/langdetect-1.0.8.tar.gz (981kB)\n",
            "\u001b[K     |████████████████████████████████| 983kB 44.7MB/s \n",
            "\u001b[?25hRequirement already satisfied: gensim<=3.8.3,>=3.4.0 in /usr/local/lib/python3.6/dist-packages (from flair) (3.6.0)\n",
            "Collecting segtok>=1.5.7\n",
            "  Downloading https://files.pythonhosted.org/packages/41/08/582dab5f4b1d5ca23bc6927b4bb977c8ff7f3a87a3b98844ef833e2f5623/segtok-1.5.10.tar.gz\n",
            "Requirement already satisfied: hyperopt>=0.1.1 in /usr/local/lib/python3.6/dist-packages (from flair) (0.1.2)\n",
            "Collecting bpemb>=0.3.2\n",
            "  Downloading https://files.pythonhosted.org/packages/91/77/3f0f53856e86af32b1d3c86652815277f7b5f880002584eb30db115b6df5/bpemb-0.3.2-py3-none-any.whl\n",
            "Requirement already satisfied: wcwidth in /usr/local/lib/python3.6/dist-packages (from ftfy->flair) (0.2.5)\n",
            "Requirement already satisfied: six>=1.5 in /usr/local/lib/python3.6/dist-packages (from python-dateutil>=2.6.1->flair) (1.15.0)\n",
            "Collecting overrides==3.0.0\n",
            "  Downloading https://files.pythonhosted.org/packages/42/8d/caa729f809ecdf8e76fac3c1ff7d3f0b72c398c9dd8a6919927a30a873b3/overrides-3.0.0.tar.gz\n",
            "Requirement already satisfied: requests in /usr/local/lib/python3.6/dist-packages (from gdown->flair) (2.23.0)\n",
            "Requirement already satisfied: wrapt<2,>=1.10 in /usr/local/lib/python3.6/dist-packages (from deprecated>=1.2.4->flair) (1.12.1)\n",
            "Requirement already satisfied: typing-extensions in /usr/local/lib/python3.6/dist-packages (from torch>=1.1.0->flair) (3.7.4.3)\n",
            "Requirement already satisfied: dataclasses in /usr/local/lib/python3.6/dist-packages (from torch>=1.1.0->flair) (0.8)\n",
            "Requirement already satisfied: numpy in /usr/local/lib/python3.6/dist-packages (from torch>=1.1.0->flair) (1.18.5)\n",
            "Requirement already satisfied: future in /usr/local/lib/python3.6/dist-packages (from torch>=1.1.0->flair) (0.16.0)\n",
            "Requirement already satisfied: packaging in /usr/local/lib/python3.6/dist-packages (from transformers<=3.5.1,>=3.5.0->flair) (20.7)\n",
            "Requirement already satisfied: protobuf in /usr/local/lib/python3.6/dist-packages (from transformers<=3.5.1,>=3.5.0->flair) (3.12.4)\n",
            "Requirement already satisfied: filelock in /usr/local/lib/python3.6/dist-packages (from transformers<=3.5.1,>=3.5.0->flair) (3.0.12)\n",
            "Collecting tokenizers==0.9.3\n",
            "\u001b[?25l  Downloading https://files.pythonhosted.org/packages/4c/34/b39eb9994bc3c999270b69c9eea40ecc6f0e97991dba28282b9fd32d44ee/tokenizers-0.9.3-cp36-cp36m-manylinux1_x86_64.whl (2.9MB)\n",
            "\u001b[K     |████████████████████████████████| 2.9MB 45.5MB/s \n",
            "\u001b[?25hCollecting sacremoses\n",
            "\u001b[?25l  Downloading https://files.pythonhosted.org/packages/7d/34/09d19aff26edcc8eb2a01bed8e98f13a1537005d31e95233fd48216eed10/sacremoses-0.0.43.tar.gz (883kB)\n",
            "\u001b[K     |████████████████████████████████| 890kB 42.3MB/s \n",
            "\u001b[?25hRequirement already satisfied: cycler>=0.10 in /usr/local/lib/python3.6/dist-packages (from matplotlib>=2.2.3->flair) (0.10.0)\n",
            "Requirement already satisfied: kiwisolver>=1.0.1 in /usr/local/lib/python3.6/dist-packages (from matplotlib>=2.2.3->flair) (1.3.1)\n",
            "Requirement already satisfied: pyparsing!=2.0.4,!=2.1.2,!=2.1.6,>=2.0.1 in /usr/local/lib/python3.6/dist-packages (from matplotlib>=2.2.3->flair) (2.4.7)\n",
            "Requirement already satisfied: scipy>=0.17.0 in /usr/local/lib/python3.6/dist-packages (from scikit-learn>=0.21.3->flair) (1.4.1)\n",
            "Requirement already satisfied: joblib>=0.11 in /usr/local/lib/python3.6/dist-packages (from scikit-learn>=0.21.3->flair) (0.17.0)\n",
            "Requirement already satisfied: smart-open>=1.2.1 in /usr/local/lib/python3.6/dist-packages (from gensim<=3.8.3,>=3.4.0->flair) (4.0.1)\n",
            "Requirement already satisfied: pymongo in /usr/local/lib/python3.6/dist-packages (from hyperopt>=0.1.1->flair) (3.11.2)\n",
            "Requirement already satisfied: networkx in /usr/local/lib/python3.6/dist-packages (from hyperopt>=0.1.1->flair) (2.5)\n",
            "Requirement already satisfied: urllib3!=1.25.0,!=1.25.1,<1.26,>=1.21.1 in /usr/local/lib/python3.6/dist-packages (from requests->gdown->flair) (1.24.3)\n",
            "Requirement already satisfied: chardet<4,>=3.0.2 in /usr/local/lib/python3.6/dist-packages (from requests->gdown->flair) (3.0.4)\n",
            "Requirement already satisfied: idna<3,>=2.5 in /usr/local/lib/python3.6/dist-packages (from requests->gdown->flair) (2.10)\n",
            "Requirement already satisfied: certifi>=2017.4.17 in /usr/local/lib/python3.6/dist-packages (from requests->gdown->flair) (2020.12.5)\n",
            "Requirement already satisfied: setuptools in /usr/local/lib/python3.6/dist-packages (from protobuf->transformers<=3.5.1,>=3.5.0->flair) (50.3.2)\n",
            "Requirement already satisfied: click in /usr/local/lib/python3.6/dist-packages (from sacremoses->transformers<=3.5.1,>=3.5.0->flair) (7.1.2)\n",
            "Requirement already satisfied: decorator>=4.3.0 in /usr/local/lib/python3.6/dist-packages (from networkx->hyperopt>=0.1.1->flair) (4.4.2)\n",
            "Building wheels for collected packages: ftfy, mpld3, sqlitedict, langdetect, segtok, overrides, sacremoses\n",
            "  Building wheel for ftfy (setup.py) ... \u001b[?25l\u001b[?25hdone\n",
            "  Created wheel for ftfy: filename=ftfy-5.8-cp36-none-any.whl size=45613 sha256=3f72e603ee1559ee8fcfd34eec9e9c74f95e87cd306839944e156e6c417290a0\n",
            "  Stored in directory: /root/.cache/pip/wheels/ba/c0/ef/f28c4da5ac84a4e06ac256ca9182fc34fa57fefffdbc68425b\n",
            "  Building wheel for mpld3 (setup.py) ... \u001b[?25l\u001b[?25hdone\n",
            "  Created wheel for mpld3: filename=mpld3-0.3-cp36-none-any.whl size=116679 sha256=a0cac9c20e65d86f89324360e64ade4082b9d9c342be6d86c8ef408295ec686b\n",
            "  Stored in directory: /root/.cache/pip/wheels/c0/47/fb/8a64f89aecfe0059830479308ad42d62e898a3e3cefdf6ba28\n",
            "  Building wheel for sqlitedict (setup.py) ... \u001b[?25l\u001b[?25hdone\n",
            "  Created wheel for sqlitedict: filename=sqlitedict-1.7.0-cp36-none-any.whl size=14377 sha256=30b640db800038ec0cc8ccfa506f937447c4acc9e5e7fa4e72c9371ce8f96a83\n",
            "  Stored in directory: /root/.cache/pip/wheels/cf/c6/4f/2c64a43f041415eb8b8740bd80e15e92f0d46c5e464d8e4b9b\n",
            "  Building wheel for langdetect (setup.py) ... \u001b[?25l\u001b[?25hdone\n",
            "  Created wheel for langdetect: filename=langdetect-1.0.8-cp36-none-any.whl size=993193 sha256=1e02b34ab4606cad0cf944c60757bef629f2d9a4eb5d5139d03681dd26d48c04\n",
            "  Stored in directory: /root/.cache/pip/wheels/8d/b3/aa/6d99de9f3841d7d3d40a60ea06e6d669e8e5012e6c8b947a57\n",
            "  Building wheel for segtok (setup.py) ... \u001b[?25l\u001b[?25hdone\n",
            "  Created wheel for segtok: filename=segtok-1.5.10-cp36-none-any.whl size=25020 sha256=d39f3edde6e5fd147778639bfa5fcab35242ba56a9f17c59de9fefaa8204581b\n",
            "  Stored in directory: /root/.cache/pip/wheels/b4/39/f6/9ca1c5cabde964d728023b5751c3a206a5c8cc40252321fb6b\n",
            "  Building wheel for overrides (setup.py) ... \u001b[?25l\u001b[?25hdone\n",
            "  Created wheel for overrides: filename=overrides-3.0.0-cp36-none-any.whl size=5669 sha256=8e9d169cc07d167fcbab7bcaff732441283424d893985a53929c75313e33cfb9\n",
            "  Stored in directory: /root/.cache/pip/wheels/6f/1b/ec/6c71a1eb823df7f850d956b2d8c50a6d49c191e1063d73b9be\n",
            "  Building wheel for sacremoses (setup.py) ... \u001b[?25l\u001b[?25hdone\n",
            "  Created wheel for sacremoses: filename=sacremoses-0.0.43-cp36-none-any.whl size=893261 sha256=dd0de9dfeca49c8804fd4257a052577ee06b2c8dc3adc40342b370f5a8389f7a\n",
            "  Stored in directory: /root/.cache/pip/wheels/29/3c/fd/7ce5c3f0666dab31a50123635e6fb5e19ceb42ce38d4e58f45\n",
            "Successfully built ftfy mpld3 sqlitedict langdetect segtok overrides sacremoses\n",
            "Installing collected packages: ftfy, overrides, konoha, janome, mpld3, deprecated, tokenizers, sacremoses, sentencepiece, transformers, sqlitedict, langdetect, segtok, bpemb, flair\n",
            "Successfully installed bpemb-0.3.2 deprecated-1.2.10 flair-0.7 ftfy-5.8 janome-0.4.1 konoha-4.6.2 langdetect-1.0.8 mpld3-0.3 overrides-3.0.0 sacremoses-0.0.43 segtok-1.5.10 sentencepiece-0.1.91 sqlitedict-1.7.0 tokenizers-0.9.3 transformers-3.5.1\n"
          ],
          "name": "stdout"
        }
      ]
    },
    {
      "cell_type": "code",
      "metadata": {
        "id": "VtUuQcNOL5t5"
      },
      "source": [
        "import numpy as np\r\n",
        "from flair.embeddings import WordEmbeddings\r\n",
        "from flair.embeddings import TransformerWordEmbeddings\r\n",
        "from flair.data import Sentence\r\n",
        "from scipy.spatial import distance"
      ],
      "execution_count": 2,
      "outputs": []
    },
    {
      "cell_type": "markdown",
      "metadata": {
        "id": "BaK81dLAReMO"
      },
      "source": [
        "# Glove Embeddings Example"
      ]
    },
    {
      "cell_type": "code",
      "metadata": {
        "colab": {
          "base_uri": "https://localhost:8080/"
        },
        "id": "MUSf5G5jL58p",
        "outputId": "3a355e58-8cb7-4513-87b8-3e7fd69199fa"
      },
      "source": [
        "glove_embedding = WordEmbeddings('glove')"
      ],
      "execution_count": 3,
      "outputs": [
        {
          "output_type": "stream",
          "text": [
            "2020-12-15 12:17:49,755 https://flair.informatik.hu-berlin.de/resources/embeddings/token/glove.gensim.vectors.npy not found in cache, downloading to /tmp/tmp7l2f7t_x\n"
          ],
          "name": "stdout"
        },
        {
          "output_type": "stream",
          "text": [
            "100%|██████████| 160000128/160000128 [00:33<00:00, 4809899.11B/s]"
          ],
          "name": "stderr"
        },
        {
          "output_type": "stream",
          "text": [
            "2020-12-15 12:18:23,516 copying /tmp/tmp7l2f7t_x to cache at /root/.flair/embeddings/glove.gensim.vectors.npy\n"
          ],
          "name": "stdout"
        },
        {
          "output_type": "stream",
          "text": [
            "\n"
          ],
          "name": "stderr"
        },
        {
          "output_type": "stream",
          "text": [
            "2020-12-15 12:18:23,765 removing temp file /tmp/tmp7l2f7t_x\n",
            "2020-12-15 12:18:24,610 https://flair.informatik.hu-berlin.de/resources/embeddings/token/glove.gensim not found in cache, downloading to /tmp/tmpgx8p8xh7\n"
          ],
          "name": "stdout"
        },
        {
          "output_type": "stream",
          "text": [
            "100%|██████████| 21494764/21494764 [00:02<00:00, 7606372.07B/s]"
          ],
          "name": "stderr"
        },
        {
          "output_type": "stream",
          "text": [
            "2020-12-15 12:18:27,936 copying /tmp/tmpgx8p8xh7 to cache at /root/.flair/embeddings/glove.gensim\n",
            "2020-12-15 12:18:27,959 removing temp file /tmp/tmpgx8p8xh7\n"
          ],
          "name": "stdout"
        },
        {
          "output_type": "stream",
          "text": [
            "\n"
          ],
          "name": "stderr"
        }
      ]
    },
    {
      "cell_type": "markdown",
      "metadata": {
        "id": "t63vP9mlRhUp"
      },
      "source": [
        "## Sentence 1"
      ]
    },
    {
      "cell_type": "code",
      "metadata": {
        "id": "cV8ALdZ0L6Dk"
      },
      "source": [
        "sentence_1 = Sentence('apple released iphone 12 pro max in 2020')"
      ],
      "execution_count": 4,
      "outputs": []
    },
    {
      "cell_type": "code",
      "metadata": {
        "colab": {
          "base_uri": "https://localhost:8080/"
        },
        "id": "3IC1576rL7jK",
        "outputId": "e8f3b60c-b278-4f4b-a438-3cf1b976d1e4"
      },
      "source": [
        "glove_embedding.embed(sentence_1)"
      ],
      "execution_count": 5,
      "outputs": [
        {
          "output_type": "execute_result",
          "data": {
            "text/plain": [
              "[Sentence: \"apple released iphone 12 pro max in 2020\"   [− Tokens: 8]]"
            ]
          },
          "metadata": {
            "tags": []
          },
          "execution_count": 5
        }
      ]
    },
    {
      "cell_type": "code",
      "metadata": {
        "colab": {
          "base_uri": "https://localhost:8080/"
        },
        "id": "KXfWooZHL7l4",
        "outputId": "ece7eb9c-a51d-4136-a2ba-e774beb7ade0"
      },
      "source": [
        "for token in sentence_1:\r\n",
        "    print(token)\r\n",
        "    print(token.embedding)\r\n",
        "    print(\"\\n\")"
      ],
      "execution_count": 6,
      "outputs": [
        {
          "output_type": "stream",
          "text": [
            "Token: 1 apple\n",
            "tensor([-0.5985, -0.4632,  0.1300, -0.0196,  0.4603, -0.3018,  0.8977, -0.6563,\n",
            "         0.6686, -0.4916,  0.0376, -0.0509,  0.6451, -0.5388, -0.3765, -0.0431,\n",
            "         0.5138,  0.1778,  0.2860,  0.9206, -0.4935, -0.4858,  0.6132,  0.7821,\n",
            "         0.1925,  0.9123, -0.0556, -0.1251, -0.6569,  0.0686,  0.5563,  1.6110,\n",
            "        -0.0074, -0.4888,  0.4549,  0.9610, -0.0634,  0.1743,  0.9814, -1.3125,\n",
            "        -0.1580, -0.5430, -0.1389, -0.2615, -0.3691,  0.2684, -0.2438, -0.1948,\n",
            "         0.6258, -0.7377,  0.3835, -0.7500, -0.3905,  0.0915, -0.3659, -1.4715,\n",
            "        -0.4523,  0.2256,  1.1412, -0.3853, -0.0672,  0.5729, -0.3919,  0.3130,\n",
            "        -0.2923, -0.9616,  0.1515, -0.2166,  0.2510,  0.0970,  0.2843,  1.4296,\n",
            "        -0.5056, -0.5137, -0.4722,  0.3204,  0.0231,  0.2262, -0.0972,  0.8213,\n",
            "         0.9260, -1.0086, -0.3864,  0.8641, -1.2060, -0.2853,  0.2265, -0.3877,\n",
            "         0.4088,  0.5930,  0.3077,  0.8380, -0.6366, -0.4464, -0.4341, -0.7936,\n",
            "        -0.2867, -0.0344,  1.3431,  0.3490])\n",
            "\n",
            "\n",
            "Token: 2 released\n",
            "tensor([-0.0451, -0.7260,  0.6271, -0.8506,  1.2913,  0.1556,  0.5372,  0.2967,\n",
            "         0.0272, -0.2156,  0.7911,  0.1594,  0.5834,  0.1422,  0.2127,  0.5273,\n",
            "         0.8467, -0.2552, -0.2266,  0.0687,  0.8454, -1.0389,  0.0572,  0.7512,\n",
            "        -0.4233,  0.3479,  0.3719, -0.0245,  0.4516,  1.0017,  0.7148,  0.0396,\n",
            "        -0.7914,  1.1237,  0.0218,  0.5682, -0.1066,  0.4893, -0.1981, -0.9888,\n",
            "        -0.2954,  0.2199, -0.1736,  1.0455,  0.3021, -0.5135, -0.4400, -0.8309,\n",
            "         0.4581, -0.4946,  0.3384, -0.4309,  0.0789,  0.8418, -0.3683, -2.4302,\n",
            "        -0.5795, -0.0524,  1.2644,  0.8816, -0.0311,  0.9024, -1.3107, -0.7962,\n",
            "         0.9831,  0.0515, -0.0143,  0.6118,  0.2169, -0.0897,  0.1589,  0.5384,\n",
            "        -0.3691,  0.0449, -0.1022,  0.9028, -0.0959, -0.0254, -0.9284, -0.5310,\n",
            "         0.4139, -0.0872, -0.0959,  0.5326, -1.1456, -0.2831,  0.6678, -0.5193,\n",
            "        -0.3507,  0.6526, -0.1945, -0.3041, -0.6515,  0.2619, -0.0246,  0.2302,\n",
            "        -0.3672,  0.1771,  0.5437, -0.9623])\n",
            "\n",
            "\n",
            "Token: 3 iphone\n",
            "tensor([-0.3609, -0.5975,  0.5235,  0.2344,  0.3229, -0.5134,  0.4237, -0.5790,\n",
            "         0.6805,  0.3536,  0.6597, -0.0775,  0.0842, -0.7555,  0.5229,  0.0685,\n",
            "        -0.3928,  1.1090,  0.7667,  0.6545, -0.0071, -1.1910,  0.8565,  1.1666,\n",
            "         1.1307,  0.9571,  0.1755,  0.2592, -0.6803, -0.1571,  0.3787,  1.7457,\n",
            "         0.1398,  0.3117,  1.1883,  0.9100, -0.9956, -0.2546,  0.6254, -0.6041,\n",
            "         0.5139, -0.1973,  0.3690, -0.0774, -0.6047,  0.0814,  0.5492, -0.2851,\n",
            "         0.8859,  0.2887,  0.1664,  0.3513,  0.2691, -0.2735, -0.3812, -0.5627,\n",
            "        -0.7775, -0.2434,  0.8626, -0.2992, -0.1599,  0.5551, -0.3766,  0.3375,\n",
            "         0.0084,  0.3258, -0.2169, -0.4835,  0.4285, -0.6070,  0.7929,  1.0375,\n",
            "        -0.6710, -0.9116, -0.4302,  0.7993,  0.0236, -0.0459, -0.2122, -0.4890,\n",
            "         0.4448, -1.3734,  0.2017,  0.5503, -1.0103, -0.0994,  0.4866, -0.0043,\n",
            "        -0.4854,  0.1720,  0.2872,  1.1088,  0.4544, -0.8195,  0.4331, -0.3293,\n",
            "        -0.3243,  0.2213,  1.4631,  0.2227])\n",
            "\n",
            "\n",
            "Token: 4 12\n",
            "tensor([ 0.0730,  0.1813,  0.0204, -0.2854,  0.1390,  0.1947,  0.7946,  0.5717,\n",
            "        -0.7715,  0.0392,  1.1718, -0.2051, -0.2833,  0.3860,  0.6874,  0.0520,\n",
            "        -0.0109,  0.1280, -1.0185,  0.7395,  0.7109, -0.1611,  0.5491,  0.6137,\n",
            "         0.3223, -0.4123,  0.3328, -0.0841,  0.2424,  0.3612,  0.0668,  0.1613,\n",
            "         0.1812, -0.7899, -0.4400, -0.0025,  0.0969,  0.3055, -0.4306,  0.6801,\n",
            "        -0.0809, -0.7408,  0.7272, -0.3813,  0.3725, -0.4571, -0.3741, -0.8136,\n",
            "        -0.0643, -0.1498, -0.6084, -0.7011, -0.3335,  0.9525, -0.5965, -2.3970,\n",
            "        -0.1315, -0.6259,  1.7407,  0.9491, -0.5584,  0.7337, -0.6383,  0.1429,\n",
            "         0.0523,  0.5167, -0.4722,  0.4084,  0.1880,  0.3140, -0.2562,  0.0069,\n",
            "        -0.0765,  0.5165, -0.0218,  0.1769,  0.1347,  0.1100, -0.7226, -0.3386,\n",
            "         0.7269, -0.0877, -0.3665,  0.1536, -0.4635, -0.4650,  0.3513, -0.1610,\n",
            "         0.2442,  0.5036, -0.1055,  0.4940, -0.2373, -0.1125, -1.2820,  0.4075,\n",
            "        -0.3709, -0.0305,  0.4792, -0.5814])\n",
            "\n",
            "\n",
            "Token: 5 pro\n",
            "tensor([-0.2332,  0.1988, -0.2101, -0.5201,  0.0146,  1.0865,  0.3593, -0.5337,\n",
            "        -0.2569,  0.4887, -0.0698,  0.0261,  0.5549, -0.4796, -0.4538,  0.3965,\n",
            "         0.0355, -1.0047, -0.1908,  0.4501,  0.6563,  0.0932,  0.0396,  0.1032,\n",
            "         0.2977, -0.2558, -0.3840, -0.7571,  0.9946,  0.9950,  0.2262,  1.1416,\n",
            "         0.0645,  0.2327,  0.7881, -0.2046, -0.0235,  0.6137, -0.7019, -0.2946,\n",
            "        -0.6030, -0.2245,  1.0954, -0.4636, -0.3176, -0.9000,  0.2299, -0.3905,\n",
            "        -0.0554, -0.5276, -0.3356,  0.1659, -0.2207,  0.0882,  0.5056, -1.6934,\n",
            "         0.5285,  0.6024,  1.6912,  0.3494, -0.7740, -0.5321, -0.5961, -0.0379,\n",
            "         0.2280,  0.1600,  0.5961,  0.0467,  0.0882,  0.5184,  1.0067, -0.2359,\n",
            "        -0.8654,  0.0373, -0.8648, -0.3432,  0.3989,  0.5280, -0.3100, -0.5621,\n",
            "         1.2702, -0.5630, -0.1432, -0.3489, -0.3617,  0.0104, -0.1854,  0.2372,\n",
            "         0.5165, -0.3110,  0.1728,  0.3704, -0.8039,  0.9957, -0.3425, -0.3929,\n",
            "        -0.7508,  0.7523,  1.3898,  0.4525])\n",
            "\n",
            "\n",
            "Token: 6 max\n",
            "tensor([ 0.3356,  0.1247,  0.2099, -0.0868,  0.2193, -0.6803,  0.0619,  0.2419,\n",
            "        -0.5426, -0.5727,  0.2655, -0.1465, -1.0335, -0.1684, -0.0746,  0.1714,\n",
            "         0.6827, -0.1196, -0.4984,  0.0190,  0.2460,  0.1463,  0.8977,  0.1802,\n",
            "         0.2900,  0.1599,  0.1820, -0.3310,  0.6753,  0.5950, -0.3450,  0.6775,\n",
            "        -0.3929,  0.1636, -0.4901,  0.2833,  0.1133,  0.0250,  0.1972,  0.2408,\n",
            "         0.2869, -0.1621, -0.1463,  0.0591, -1.0204,  0.1693, -0.3522, -0.0614,\n",
            "         0.3289,  0.8992,  0.4285, -0.0598, -0.3730,  0.4329,  0.3592, -1.8269,\n",
            "        -0.4295,  0.9414, -0.3002,  0.2843,  1.0934,  0.2972, -0.6670,  0.3720,\n",
            "         1.3223, -0.1351,  0.4574,  0.8587,  0.7930,  0.4599,  0.1624, -0.8505,\n",
            "        -0.4849,  0.1712,  0.2690,  0.3976,  0.7205, -0.9071,  0.2739,  0.2051,\n",
            "        -0.0022, -0.1362, -0.3767, -0.5283, -0.5826,  0.2282, -0.2979, -0.2571,\n",
            "        -0.2076, -0.4404,  0.5630, -0.1047,  0.6858,  0.6947,  0.1091, -0.2399,\n",
            "         0.0042, -0.0966,  0.2621, -0.8044])\n",
            "\n",
            "\n",
            "Token: 7 in\n",
            "tensor([ 0.0857, -0.2220,  0.1657,  0.1337,  0.3824,  0.3540,  0.0129,  0.2246,\n",
            "        -0.4382,  0.5016, -0.3587, -0.3498,  0.0552,  0.6965, -0.1796,  0.0679,\n",
            "         0.3910,  0.1604, -0.2664, -0.2114,  0.5370,  0.4938,  0.9366,  0.6690,\n",
            "         0.2179, -0.4664,  0.2238, -0.3620, -0.1766,  0.1748, -0.2037,  0.1393,\n",
            "         0.0198, -0.1041, -0.2024,  0.5500, -0.1546,  0.9865, -0.2686, -0.2909,\n",
            "        -0.3287, -0.3419, -0.1694, -0.4200, -0.0467, -0.1633,  0.7082, -0.7491,\n",
            "        -0.0916, -0.9618, -0.1975,  0.1028,  0.5522,  1.3816, -0.6564, -3.2502,\n",
            "        -0.3156, -1.2055,  1.7709,  0.4026, -0.7983,  1.1597, -0.3304,  0.3138,\n",
            "         0.7739,  0.2260,  0.5247, -0.0341,  0.3205,  0.0799,  0.1775, -0.4943,\n",
            "        -0.7005, -0.4457,  0.1724,  0.2028,  0.0233, -0.2068, -1.0158,  0.1832,\n",
            "         0.5675,  0.3182, -0.6501,  0.6828, -0.8658, -0.0594, -0.2926, -0.5567,\n",
            "        -0.3471, -0.3289,  0.4022, -0.1275, -0.2023,  0.8737, -0.5450,  0.7921,\n",
            "        -0.2069, -0.0743,  0.7581, -0.3424])\n",
            "\n",
            "\n",
            "Token: 8 2020\n",
            "tensor([-0.1241,  0.3447,  0.9852, -0.1853,  0.3933, -1.3096, -0.0987,  0.6483,\n",
            "         0.1348,  1.0135,  0.4145, -0.4029,  0.1575, -1.1746,  0.3356, -1.6206,\n",
            "        -0.4004,  1.0787, -0.4370, -1.0824, -0.4016, -0.3710, -0.4385,  0.8210,\n",
            "        -0.1609,  0.4084,  0.1666, -0.0382,  0.4597, -0.0112, -0.5954,  0.4539,\n",
            "        -0.2334, -0.8493,  0.4425,  0.2576,  0.0797, -0.2632, -0.8782,  0.1784,\n",
            "        -0.5862,  0.0843, -0.3571,  0.9713, -0.0594,  0.0907,  0.1479, -0.6011,\n",
            "        -1.4061, -0.1069, -0.6418, -0.6196, -0.6186,  0.8040, -0.5495, -1.1144,\n",
            "         0.1015,  0.2140,  0.5193, -0.5009, -0.1563,  0.1541, -0.6118, -0.4091,\n",
            "         0.2161,  0.3469, -1.0338, -0.7153,  1.1187, -1.1841,  0.8466, -0.3190,\n",
            "        -0.4022,  0.0755, -0.4686, -0.5858,  0.6357, -0.5537, -0.7745, -0.5577,\n",
            "         0.4393,  0.4853, -0.3689, -0.3911,  0.0748,  0.6911,  0.4363, -0.1206,\n",
            "        -0.1954,  0.8056,  0.5050,  0.2136,  0.1071, -0.5304, -1.1339,  0.2752,\n",
            "         0.1600,  0.0397, -0.0084, -1.0729])\n",
            "\n",
            "\n"
          ],
          "name": "stdout"
        }
      ]
    },
    {
      "cell_type": "code",
      "metadata": {
        "colab": {
          "base_uri": "https://localhost:8080/"
        },
        "id": "lHwww0V0U5om",
        "outputId": "fe0716c5-9112-4cf2-b475-23850082956f"
      },
      "source": [
        "sentence_1[0]"
      ],
      "execution_count": 7,
      "outputs": [
        {
          "output_type": "execute_result",
          "data": {
            "text/plain": [
              "Token: 1 apple"
            ]
          },
          "metadata": {
            "tags": []
          },
          "execution_count": 7
        }
      ]
    },
    {
      "cell_type": "code",
      "metadata": {
        "colab": {
          "base_uri": "https://localhost:8080/"
        },
        "id": "xPkI1cGbU5_z",
        "outputId": "9c407435-6a1c-4033-e037-eaf98aa51479"
      },
      "source": [
        "sentence_1[0].embedding"
      ],
      "execution_count": 10,
      "outputs": [
        {
          "output_type": "execute_result",
          "data": {
            "text/plain": [
              "tensor([-0.5985, -0.4632,  0.1300, -0.0196,  0.4603, -0.3018,  0.8977, -0.6563,\n",
              "         0.6686, -0.4916,  0.0376, -0.0509,  0.6451, -0.5388, -0.3765, -0.0431,\n",
              "         0.5138,  0.1778,  0.2860,  0.9206, -0.4935, -0.4858,  0.6132,  0.7821,\n",
              "         0.1925,  0.9123, -0.0556, -0.1251, -0.6569,  0.0686,  0.5563,  1.6110,\n",
              "        -0.0074, -0.4888,  0.4549,  0.9610, -0.0634,  0.1743,  0.9814, -1.3125,\n",
              "        -0.1580, -0.5430, -0.1389, -0.2615, -0.3691,  0.2684, -0.2438, -0.1948,\n",
              "         0.6258, -0.7377,  0.3835, -0.7500, -0.3905,  0.0915, -0.3659, -1.4715,\n",
              "        -0.4523,  0.2256,  1.1412, -0.3853, -0.0672,  0.5729, -0.3919,  0.3130,\n",
              "        -0.2923, -0.9616,  0.1515, -0.2166,  0.2510,  0.0970,  0.2843,  1.4296,\n",
              "        -0.5056, -0.5137, -0.4722,  0.3204,  0.0231,  0.2262, -0.0972,  0.8213,\n",
              "         0.9260, -1.0086, -0.3864,  0.8641, -1.2060, -0.2853,  0.2265, -0.3877,\n",
              "         0.4088,  0.5930,  0.3077,  0.8380, -0.6366, -0.4464, -0.4341, -0.7936,\n",
              "        -0.2867, -0.0344,  1.3431,  0.3490])"
            ]
          },
          "metadata": {
            "tags": []
          },
          "execution_count": 10
        }
      ]
    },
    {
      "cell_type": "code",
      "metadata": {
        "colab": {
          "base_uri": "https://localhost:8080/"
        },
        "id": "vaKQ291wVph2",
        "outputId": "3ca4719b-9009-420c-8869-ab8250731c6f"
      },
      "source": [
        "sentence_1[0].embedding.shape"
      ],
      "execution_count": 11,
      "outputs": [
        {
          "output_type": "execute_result",
          "data": {
            "text/plain": [
              "torch.Size([100])"
            ]
          },
          "metadata": {
            "tags": []
          },
          "execution_count": 11
        }
      ]
    },
    {
      "cell_type": "markdown",
      "metadata": {
        "id": "Jj7HaPcERj6l"
      },
      "source": [
        "## Sentence 2"
      ]
    },
    {
      "cell_type": "code",
      "metadata": {
        "id": "h9UQxJymMy0a"
      },
      "source": [
        "sentence_2 = Sentence('an apple a day keeps the doctor away')"
      ],
      "execution_count": 12,
      "outputs": []
    },
    {
      "cell_type": "code",
      "metadata": {
        "colab": {
          "base_uri": "https://localhost:8080/"
        },
        "id": "nlawydV0Nbjc",
        "outputId": "85d3faf2-45e5-43a1-e482-58aa0f501b00"
      },
      "source": [
        "glove_embedding.embed(sentence_2)"
      ],
      "execution_count": 13,
      "outputs": [
        {
          "output_type": "execute_result",
          "data": {
            "text/plain": [
              "[Sentence: \"an apple a day keeps the doctor away\"   [− Tokens: 8]]"
            ]
          },
          "metadata": {
            "tags": []
          },
          "execution_count": 13
        }
      ]
    },
    {
      "cell_type": "code",
      "metadata": {
        "colab": {
          "base_uri": "https://localhost:8080/"
        },
        "id": "vArJ75eENbl1",
        "outputId": "e8bea2c2-3ec8-45da-ca9a-36d0451a94a2"
      },
      "source": [
        "for token in sentence_2:\r\n",
        "    print(token)\r\n",
        "    print(token.embedding)\r\n",
        "    print(\"\\n\")"
      ],
      "execution_count": 14,
      "outputs": [
        {
          "output_type": "stream",
          "text": [
            "Token: 1 an\n",
            "tensor([-0.4214, -0.1880,  0.4624, -0.1761,  0.3621,  0.3670,  0.2792,  0.1463,\n",
            "        -0.0542,  0.4583,  0.0654, -0.3372,  0.0675, -0.3632,  0.5030, -0.0104,\n",
            "         0.7283, -0.1756, -0.3400,  0.0729,  0.6448, -0.2391,  0.3838,  0.1386,\n",
            "         1.0994, -0.2488, -0.1508, -0.4874, -0.2304,  0.0648, -0.7018,  0.8265,\n",
            "         0.0613,  0.1853, -0.3016, -0.0222,  0.3430,  0.8033,  0.1714,  0.1546,\n",
            "        -0.5076,  0.3957,  0.0543, -0.5308,  0.4825,  0.0862,  0.5958, -0.2238,\n",
            "        -0.3955, -0.7304, -0.1028, -0.3917,  1.2290,  1.2129, -1.0365, -3.4971,\n",
            "         0.1092, -1.0084,  1.9998,  0.7964,  0.3881,  0.4375,  0.0852,  0.3855,\n",
            "         0.6199, -1.0320,  0.7012, -0.2246,  0.0794,  0.0913, -0.2120, -0.5543,\n",
            "        -0.0534, -0.8020,  0.4680, -0.0501, -0.5742, -0.0848, -1.7227, -0.9429,\n",
            "         0.9867,  0.3121, -0.3774,  0.0687, -0.7784, -0.2849,  0.8105,  0.4660,\n",
            "        -0.1186, -0.9341,  0.3372,  0.0379, -0.1827, -0.0199,  0.2049, -0.4772,\n",
            "        -0.4925, -0.5652,  0.7256, -0.1591])\n",
            "\n",
            "\n",
            "Token: 2 apple\n",
            "tensor([-0.5985, -0.4632,  0.1300, -0.0196,  0.4603, -0.3018,  0.8977, -0.6563,\n",
            "         0.6686, -0.4916,  0.0376, -0.0509,  0.6451, -0.5388, -0.3765, -0.0431,\n",
            "         0.5138,  0.1778,  0.2860,  0.9206, -0.4935, -0.4858,  0.6132,  0.7821,\n",
            "         0.1925,  0.9123, -0.0556, -0.1251, -0.6569,  0.0686,  0.5563,  1.6110,\n",
            "        -0.0074, -0.4888,  0.4549,  0.9610, -0.0634,  0.1743,  0.9814, -1.3125,\n",
            "        -0.1580, -0.5430, -0.1389, -0.2615, -0.3691,  0.2684, -0.2438, -0.1948,\n",
            "         0.6258, -0.7377,  0.3835, -0.7500, -0.3905,  0.0915, -0.3659, -1.4715,\n",
            "        -0.4523,  0.2256,  1.1412, -0.3853, -0.0672,  0.5729, -0.3919,  0.3130,\n",
            "        -0.2923, -0.9616,  0.1515, -0.2166,  0.2510,  0.0970,  0.2843,  1.4296,\n",
            "        -0.5056, -0.5137, -0.4722,  0.3204,  0.0231,  0.2262, -0.0972,  0.8213,\n",
            "         0.9260, -1.0086, -0.3864,  0.8641, -1.2060, -0.2853,  0.2265, -0.3877,\n",
            "         0.4088,  0.5930,  0.3077,  0.8380, -0.6366, -0.4464, -0.4341, -0.7936,\n",
            "        -0.2867, -0.0344,  1.3431,  0.3490])\n",
            "\n",
            "\n",
            "Token: 3 a\n",
            "tensor([-0.2709,  0.0440, -0.0203, -0.1740,  0.6444,  0.7121,  0.3551,  0.4714,\n",
            "        -0.2964,  0.5443, -0.7229, -0.0048,  0.0406,  0.0432,  0.2973,  0.1072,\n",
            "         0.4016, -0.5366,  0.0334,  0.0674,  0.6456, -0.0855,  0.1410,  0.0945,\n",
            "         0.7495, -0.1940, -0.6874, -0.4174, -0.2281,  0.1200, -0.4900,  0.8094,\n",
            "         0.0451, -0.1190,  0.2016,  0.3928, -0.2012,  0.3135,  0.7530,  0.2591,\n",
            "        -0.1157, -0.0293,  0.9350, -0.3607,  0.5242,  0.2371,  0.5271,  0.2287,\n",
            "        -0.5196, -0.7935, -0.2037, -0.5019,  0.1875,  0.9428, -0.4483, -3.6792,\n",
            "         0.0442, -0.2675,  2.1997,  0.2410, -0.0334,  0.6955, -0.6447, -0.0072,\n",
            "         0.8957,  0.2001,  0.4649,  0.6193, -0.1066,  0.0869, -0.4623,  0.1826,\n",
            "        -0.1585,  0.0208,  0.1937,  0.0634, -0.3167, -0.4818, -1.3848,  0.1367,\n",
            "         0.9686,  0.0500, -0.2738, -0.0357, -1.0577, -0.2447,  0.9037, -0.1244,\n",
            "         0.0808, -0.8340,  0.5720,  0.0889, -0.4253, -0.0183, -0.0800, -0.2858,\n",
            "        -0.0109, -0.4923,  0.6369,  0.2364])\n",
            "\n",
            "\n",
            "Token: 4 day\n",
            "tensor([-3.6689e-01,  4.1540e-01,  1.3478e-01, -1.7841e-01, -4.0050e-01,\n",
            "         2.0647e-01,  4.2742e-01,  1.1290e+00, -8.3981e-01, -4.7955e-01,\n",
            "         2.1115e-02, -1.8319e-01,  2.4588e-01, -2.9048e-02,  2.9683e-01,\n",
            "        -4.4613e-01,  1.7493e-01, -1.6619e-01, -4.9573e-01, -2.6547e-02,\n",
            "         7.6369e-01, -2.0810e-01,  2.6494e-01,  3.3085e-01,  5.7039e-01,\n",
            "         1.2832e-01, -2.8324e-01,  7.8652e-02,  3.8330e-01, -7.4012e-02,\n",
            "        -5.6725e-01, -2.5826e-01,  1.4013e-01,  1.1077e-01, -2.1629e-01,\n",
            "         4.0637e-01, -4.5740e-01,  2.7936e-01,  1.6717e-01, -1.6388e-01,\n",
            "        -6.9184e-01, -3.1493e-01,  6.5592e-01, -2.2426e-03, -1.6975e-02,\n",
            "         1.0777e-01, -1.8928e-01, -7.7079e-01,  2.4333e-01, -1.1467e+00,\n",
            "         1.2931e-01, -5.9668e-01,  5.2350e-01,  1.0476e+00, -8.3517e-01,\n",
            "        -2.6268e+00, -3.2837e-01,  2.4767e-01,  2.1535e+00,  6.0561e-01,\n",
            "        -5.4019e-01,  9.9737e-01, -1.8484e-01, -4.7044e-01, -1.9265e-02,\n",
            "         3.4195e-01,  3.1006e-01, -3.1499e-01,  2.9990e-01, -3.7647e-01,\n",
            "        -1.0041e-01, -4.8373e-01, -3.8982e-01, -3.4424e-01, -1.2195e-01,\n",
            "         5.8945e-01, -1.5675e-01, -3.3774e-01, -1.0446e+00, -3.7927e-02,\n",
            "         3.8237e-01, -6.3733e-02, -1.2990e-01,  1.2899e-01, -1.4625e+00,\n",
            "        -2.2875e-01, -3.6410e-01, -1.0337e-01,  2.3737e-01, -2.3498e-01,\n",
            "         1.5801e-01,  3.8339e-02,  1.3424e-02,  3.2535e-01, -1.1755e+00,\n",
            "         4.9695e-02,  5.7227e-01,  2.4380e-02,  2.2106e-01,  4.3169e-01])\n",
            "\n",
            "\n",
            "Token: 5 keeps\n",
            "tensor([-2.8212e-01,  8.1407e-02,  1.0041e+00, -2.1619e-01,  3.8559e-01,\n",
            "         5.8096e-01, -7.4637e-01,  9.6754e-02,  1.3090e-01, -5.7634e-01,\n",
            "         5.7288e-01, -1.5900e-01,  1.3582e-01,  2.7628e-01, -4.4655e-01,\n",
            "         1.5342e-01, -4.1672e-01, -2.2789e-01,  1.1763e+00,  4.3135e-04,\n",
            "        -2.0838e-01,  4.4750e-01, -1.4259e-01, -4.7203e-01,  2.8749e-01,\n",
            "         1.8887e-01, -8.8928e-01, -8.2278e-01, -3.1343e-01, -5.6226e-02,\n",
            "        -3.2358e-01,  4.7065e-01,  1.2294e-01,  1.3080e-01,  6.5288e-02,\n",
            "        -3.1797e-01, -2.3859e-01, -4.7632e-01, -2.3364e-02, -4.4278e-01,\n",
            "        -2.0717e-01, -4.5140e-01,  4.4082e-01, -3.7247e-01,  6.3666e-02,\n",
            "        -2.6637e-01, -3.7114e-01, -1.4971e-01,  2.7836e-01, -8.9750e-01,\n",
            "         7.6634e-01, -6.3621e-01, -7.2737e-02,  1.0848e+00,  2.2928e-01,\n",
            "        -1.6516e+00,  8.1383e-02,  5.1793e-02,  7.1174e-01,  2.2299e-01,\n",
            "         8.2580e-01,  3.6125e-02,  2.4621e-01, -1.3305e-01,  9.9692e-02,\n",
            "         7.9609e-01,  5.6096e-01,  1.4129e-01,  2.1741e-01,  2.1998e-01,\n",
            "         4.8408e-01, -9.3512e-02, -1.1885e-01, -4.0587e-02,  6.3986e-01,\n",
            "         2.3246e-01,  2.8093e-01, -2.3691e-01, -2.3029e-01,  2.4496e-01,\n",
            "         1.1252e-01,  2.6858e-02, -1.0912e+00, -8.9866e-02, -5.8186e-01,\n",
            "        -2.7347e-02, -2.6925e-01,  2.2656e-01, -6.4862e-03,  1.1973e-01,\n",
            "        -1.6618e-01,  1.5777e-01,  7.2022e-01, -7.2013e-01, -2.7190e-01,\n",
            "        -2.3454e-01,  1.6691e-01, -2.4730e-01,  3.4683e-01,  8.1010e-01])\n",
            "\n",
            "\n",
            "Token: 6 the\n",
            "tensor([-0.0382, -0.2449,  0.7281, -0.3996,  0.0832,  0.0440, -0.3914,  0.3344,\n",
            "        -0.5755,  0.0875,  0.2879, -0.0673,  0.3091, -0.2638, -0.1323, -0.2076,\n",
            "         0.3340, -0.3385, -0.3174, -0.4834,  0.1464, -0.3730,  0.3458,  0.0520,\n",
            "         0.4495, -0.4697,  0.0263, -0.5415, -0.1552, -0.1411, -0.0397,  0.2828,\n",
            "         0.1439,  0.2346, -0.3102,  0.0862,  0.2040,  0.5262,  0.1716, -0.0824,\n",
            "        -0.7179, -0.4153,  0.2033, -0.1276,  0.4137,  0.5519,  0.5791, -0.3348,\n",
            "        -0.3656, -0.5486, -0.0629,  0.2658,  0.3020,  0.9977, -0.8048, -3.0243,\n",
            "         0.0125, -0.3694,  2.2167,  0.7220, -0.2498,  0.9214,  0.0345,  0.4674,\n",
            "         1.1079, -0.1936, -0.0746,  0.2335, -0.0521, -0.2204,  0.0572, -0.1581,\n",
            "        -0.3080, -0.4162,  0.3797,  0.1501, -0.5321, -0.2055, -1.2526,  0.0716,\n",
            "         0.7056,  0.4974, -0.4206,  0.2615, -1.5380, -0.3022, -0.0734, -0.2831,\n",
            "         0.3710, -0.2522,  0.0162, -0.0171, -0.3898,  0.8742, -0.7257, -0.5106,\n",
            "        -0.5203, -0.1459,  0.8278,  0.2706])\n",
            "\n",
            "\n",
            "Token: 7 doctor\n",
            "tensor([ 0.0432, -0.4753,  0.1581,  0.2041, -0.1538,  0.7228,  0.2614,  0.2089,\n",
            "        -0.3147, -0.0703, -0.4337,  0.0531,  0.7363,  0.9811,  0.2353, -0.1045,\n",
            "         0.5026, -0.0334, -0.3554,  0.6455, -0.3710, -0.1005, -0.7693, -0.1696,\n",
            "        -0.1565,  0.5355,  0.3515, -1.5126,  0.0510,  0.2445, -0.3569,  0.4397,\n",
            "        -0.6298,  0.3289, -0.5301,  0.4983, -1.2061,  0.2780,  0.4273,  0.0958,\n",
            "        -0.4353,  0.9356,  0.3604, -0.8311,  0.1297, -0.1363, -0.5812,  0.0929,\n",
            "        -0.0147,  0.3256,  0.4120,  0.1451,  0.4980,  0.8693, -0.1803, -1.6227,\n",
            "        -0.6457,  0.1750,  0.7385,  0.3916,  0.8314,  0.5131,  0.1300, -0.2129,\n",
            "         0.6846,  0.0563,  0.0908,  0.2803, -0.1223,  0.6076, -0.5791, -0.0241,\n",
            "        -0.0633,  0.4075,  0.1077,  0.5798,  0.0928, -0.1559, -0.3649, -0.4663,\n",
            "         0.3755,  0.1640, -0.7514, -0.1083, -2.1363, -0.1166,  0.2316,  0.2442,\n",
            "        -0.3635, -0.3493,  0.6000, -0.1053,  0.7861,  0.4571, -0.1712,  0.6362,\n",
            "         0.6862, -0.2840, -0.2977, -0.8115])\n",
            "\n",
            "\n",
            "Token: 8 away\n",
            "tensor([-0.1038, -0.0148,  0.5993, -0.5132, -0.0365,  0.6588, -0.5791,  0.1782,\n",
            "         0.2366, -0.2138,  0.5534,  0.5360,  0.0414,  0.1610,  0.0171, -0.3724,\n",
            "         0.0180,  0.3927, -0.2326,  0.1818,  0.6640,  0.9816,  0.4234,  0.0306,\n",
            "         0.3501,  0.2552, -0.7118, -0.4218,  0.1307, -0.4745, -0.0817,  0.1574,\n",
            "        -0.1326,  0.2268, -0.1689, -0.1112, -0.3227, -0.0210, -0.4335,  0.1720,\n",
            "        -0.6737, -0.7905,  0.1056, -0.4219, -0.1239, -0.0635, -0.1784,  0.5636,\n",
            "         0.1699, -0.1780,  0.1396, -0.2017,  0.0790,  1.4497,  0.2356, -2.6014,\n",
            "        -0.5286, -0.1164,  1.7184,  0.3325,  0.1214,  1.1602, -0.2914,  0.4712,\n",
            "         0.4187,  0.3527,  0.4787, -0.0423, -0.1829,  0.1796, -0.2443, -0.3404,\n",
            "         0.2034, -0.9368,  0.0131,  0.0803, -0.3660, -0.4401, -0.3539,  0.1591,\n",
            "         0.5581,  0.1492, -0.8643,  0.0403, -1.0939, -0.2639, -0.2949,  0.2570,\n",
            "        -0.3372, -0.0865, -0.2425, -0.2111,  0.0996,  0.1282, -0.7871, -0.5178,\n",
            "        -0.1094,  0.9763,  0.5703,  0.1358])\n",
            "\n",
            "\n"
          ],
          "name": "stdout"
        }
      ]
    },
    {
      "cell_type": "code",
      "metadata": {
        "colab": {
          "base_uri": "https://localhost:8080/"
        },
        "id": "DcyvHe-JRAti",
        "outputId": "ae10744e-2667-47ec-e81b-0ec5c71bb89d"
      },
      "source": [
        "sentence_2[1]"
      ],
      "execution_count": 15,
      "outputs": [
        {
          "output_type": "execute_result",
          "data": {
            "text/plain": [
              "Token: 2 apple"
            ]
          },
          "metadata": {
            "tags": []
          },
          "execution_count": 15
        }
      ]
    },
    {
      "cell_type": "code",
      "metadata": {
        "colab": {
          "base_uri": "https://localhost:8080/"
        },
        "id": "oSD4DEXXSjcZ",
        "outputId": "a445014f-ef7f-4c92-9e97-c3217e10a8e6"
      },
      "source": [
        "sentence_2[1].embedding"
      ],
      "execution_count": 16,
      "outputs": [
        {
          "output_type": "execute_result",
          "data": {
            "text/plain": [
              "tensor([-0.5985, -0.4632,  0.1300, -0.0196,  0.4603, -0.3018,  0.8977, -0.6563,\n",
              "         0.6686, -0.4916,  0.0376, -0.0509,  0.6451, -0.5388, -0.3765, -0.0431,\n",
              "         0.5138,  0.1778,  0.2860,  0.9206, -0.4935, -0.4858,  0.6132,  0.7821,\n",
              "         0.1925,  0.9123, -0.0556, -0.1251, -0.6569,  0.0686,  0.5563,  1.6110,\n",
              "        -0.0074, -0.4888,  0.4549,  0.9610, -0.0634,  0.1743,  0.9814, -1.3125,\n",
              "        -0.1580, -0.5430, -0.1389, -0.2615, -0.3691,  0.2684, -0.2438, -0.1948,\n",
              "         0.6258, -0.7377,  0.3835, -0.7500, -0.3905,  0.0915, -0.3659, -1.4715,\n",
              "        -0.4523,  0.2256,  1.1412, -0.3853, -0.0672,  0.5729, -0.3919,  0.3130,\n",
              "        -0.2923, -0.9616,  0.1515, -0.2166,  0.2510,  0.0970,  0.2843,  1.4296,\n",
              "        -0.5056, -0.5137, -0.4722,  0.3204,  0.0231,  0.2262, -0.0972,  0.8213,\n",
              "         0.9260, -1.0086, -0.3864,  0.8641, -1.2060, -0.2853,  0.2265, -0.3877,\n",
              "         0.4088,  0.5930,  0.3077,  0.8380, -0.6366, -0.4464, -0.4341, -0.7936,\n",
              "        -0.2867, -0.0344,  1.3431,  0.3490])"
            ]
          },
          "metadata": {
            "tags": []
          },
          "execution_count": 16
        }
      ]
    },
    {
      "cell_type": "code",
      "metadata": {
        "colab": {
          "base_uri": "https://localhost:8080/"
        },
        "id": "z2iekZ7QVw1A",
        "outputId": "63addb21-87ef-4086-c18f-efe32952f47d"
      },
      "source": [
        "sentence_2[1].embedding.shape"
      ],
      "execution_count": 17,
      "outputs": [
        {
          "output_type": "execute_result",
          "data": {
            "text/plain": [
              "torch.Size([100])"
            ]
          },
          "metadata": {
            "tags": []
          },
          "execution_count": 17
        }
      ]
    },
    {
      "cell_type": "markdown",
      "metadata": {
        "id": "xaLnCTt3Rmr1"
      },
      "source": [
        "## Glove Distance between the same word"
      ]
    },
    {
      "cell_type": "code",
      "metadata": {
        "id": "eob6E_nVRAwi"
      },
      "source": [
        "glove_dst = distance.euclidean(np.array(sentence_1[0].embedding), \r\n",
        "                               np.array(sentence_2[1].embedding))"
      ],
      "execution_count": 18,
      "outputs": []
    },
    {
      "cell_type": "code",
      "metadata": {
        "colab": {
          "base_uri": "https://localhost:8080/"
        },
        "id": "wtXdgQKkNbwp",
        "outputId": "c713df3f-9853-40f1-bac6-ed7dd107baa1"
      },
      "source": [
        "print(\"Distance between apple embeddings for Glove = {}\".format(glove_dst))"
      ],
      "execution_count": 19,
      "outputs": [
        {
          "output_type": "stream",
          "text": [
            "Distance between apple embeddings for Glove = 0.0\n"
          ],
          "name": "stdout"
        }
      ]
    },
    {
      "cell_type": "markdown",
      "metadata": {
        "id": "PflnZaRsSPu_"
      },
      "source": [
        "# Bert Embeddings"
      ]
    },
    {
      "cell_type": "code",
      "metadata": {
        "colab": {
          "base_uri": "https://localhost:8080/",
          "height": 165,
          "referenced_widgets": [
            "34e324e982464c4a9e1f830447848a0a",
            "f401be23e95d47dea2817de3bc440a2d",
            "0aa00f9561314864bc487d0d09505751",
            "4495c3d4b166480d95cd59b1c230b278",
            "e5ec602ceb6340b4828494b3d1d2e1b5",
            "4e653735a06a4f44893b07f222f8ef88",
            "7a61c4505e134734a6f55223f556b799",
            "d75c554415f5428fb77090a3f572270a",
            "874d7d1a067a4cb384862ebdc19ae4b3",
            "0c6d47ee29ba491c89cef70c674ac3a7",
            "7b8ee12a5e904bda8f23992c8af89c5b",
            "d85c666b85194bf2ba547ea4240832ea",
            "10a361c7e1a0490894e173f1b82fe99a",
            "af52159d18f9425fb6c079ce5e03cc84",
            "6e682875941240cab8e915f882cf628d",
            "f029a316c8ca40d2a25d3531ca3b9b72",
            "3591b3d8d10c4b3591510e1f02ec8b8e",
            "3b7303de407e4d599d677dee214b70f8",
            "3fa33ae4457e4f61a70c1ea49cc82c4e",
            "0239a1e9ba31436797a2500eda41d048",
            "47a53082935f47c9a3c3d3e36e939464",
            "6c027bb85e2e4e09be7a774abce95fdc",
            "364c8f8ce0f7449a8b362754f01fbf40",
            "b40e187ea89d4091a38355c10b561b12"
          ]
        },
        "id": "dXY0ryH4PnG3",
        "outputId": "20a93cdb-957d-48b2-950e-ec7acd090948"
      },
      "source": [
        "bert_embedding = TransformerWordEmbeddings('bert-base-multilingual-cased')"
      ],
      "execution_count": 20,
      "outputs": [
        {
          "output_type": "display_data",
          "data": {
            "application/vnd.jupyter.widget-view+json": {
              "model_id": "34e324e982464c4a9e1f830447848a0a",
              "version_minor": 0,
              "version_major": 2
            },
            "text/plain": [
              "HBox(children=(FloatProgress(value=0.0, description='Downloading', max=625.0, style=ProgressStyle(description_…"
            ]
          },
          "metadata": {
            "tags": []
          }
        },
        {
          "output_type": "stream",
          "text": [
            "\n"
          ],
          "name": "stdout"
        },
        {
          "output_type": "display_data",
          "data": {
            "application/vnd.jupyter.widget-view+json": {
              "model_id": "874d7d1a067a4cb384862ebdc19ae4b3",
              "version_minor": 0,
              "version_major": 2
            },
            "text/plain": [
              "HBox(children=(FloatProgress(value=0.0, description='Downloading', max=995526.0, style=ProgressStyle(descripti…"
            ]
          },
          "metadata": {
            "tags": []
          }
        },
        {
          "output_type": "stream",
          "text": [
            "\n"
          ],
          "name": "stdout"
        },
        {
          "output_type": "display_data",
          "data": {
            "application/vnd.jupyter.widget-view+json": {
              "model_id": "3591b3d8d10c4b3591510e1f02ec8b8e",
              "version_minor": 0,
              "version_major": 2
            },
            "text/plain": [
              "HBox(children=(FloatProgress(value=0.0, description='Downloading', max=714314041.0, style=ProgressStyle(descri…"
            ]
          },
          "metadata": {
            "tags": []
          }
        },
        {
          "output_type": "stream",
          "text": [
            "\n"
          ],
          "name": "stdout"
        }
      ]
    },
    {
      "cell_type": "code",
      "metadata": {
        "colab": {
          "base_uri": "https://localhost:8080/"
        },
        "id": "A3IP_ShHPnJf",
        "outputId": "d8cfdc24-0279-4515-ce9f-122b6ecd4384"
      },
      "source": [
        "bert_embedding.embed(sentence_1)\r\n",
        "for token in sentence_1:\r\n",
        "    print(token)\r\n",
        "    print(token.embedding)"
      ],
      "execution_count": 21,
      "outputs": [
        {
          "output_type": "stream",
          "text": [
            "Token: 1 apple\n",
            "tensor([-0.5985, -0.4632,  0.1300,  ...,  1.4355,  0.0781,  0.2832])\n",
            "Token: 2 released\n",
            "tensor([-0.0451, -0.7260,  0.6271,  ...,  0.8646,  0.4700,  0.4862])\n",
            "Token: 3 iphone\n",
            "tensor([-0.3609, -0.5975,  0.5235,  ...,  0.8601,  0.1087, -0.7263])\n",
            "Token: 4 12\n",
            "tensor([ 0.0730,  0.1813,  0.0204,  ...,  1.0590,  0.4350, -0.1114])\n",
            "Token: 5 pro\n",
            "tensor([-0.2332,  0.1988, -0.2101,  ...,  1.8614,  0.7496, -0.2961])\n",
            "Token: 6 max\n",
            "tensor([ 0.3356,  0.1247,  0.2099,  ...,  1.3470, -0.0816,  0.4086])\n",
            "Token: 7 in\n",
            "tensor([ 0.0857, -0.2220,  0.1657,  ...,  1.4064, -0.2576, -0.0673])\n",
            "Token: 8 2020\n",
            "tensor([-0.1241,  0.3447,  0.9852,  ...,  0.8098,  1.0564, -0.2190])\n"
          ],
          "name": "stdout"
        }
      ]
    },
    {
      "cell_type": "code",
      "metadata": {
        "colab": {
          "base_uri": "https://localhost:8080/"
        },
        "id": "i-l5ugHoVCB4",
        "outputId": "d945338b-7e5e-444b-b48a-499954bfa845"
      },
      "source": [
        "sentence_1[0]"
      ],
      "execution_count": 22,
      "outputs": [
        {
          "output_type": "execute_result",
          "data": {
            "text/plain": [
              "Token: 1 apple"
            ]
          },
          "metadata": {
            "tags": []
          },
          "execution_count": 22
        }
      ]
    },
    {
      "cell_type": "code",
      "metadata": {
        "colab": {
          "base_uri": "https://localhost:8080/"
        },
        "id": "pFLxMHi9V9QK",
        "outputId": "977b1535-b243-4c24-acdc-90177ce0e1ec"
      },
      "source": [
        "sentence_1[0].embedding"
      ],
      "execution_count": 23,
      "outputs": [
        {
          "output_type": "execute_result",
          "data": {
            "text/plain": [
              "tensor([-0.5985, -0.4632,  0.1300,  ...,  1.4355,  0.0781,  0.2832])"
            ]
          },
          "metadata": {
            "tags": []
          },
          "execution_count": 23
        }
      ]
    },
    {
      "cell_type": "code",
      "metadata": {
        "colab": {
          "base_uri": "https://localhost:8080/"
        },
        "id": "-NbsQf5LVCOo",
        "outputId": "ee249192-f7ec-464f-bc5a-00aee499ebeb"
      },
      "source": [
        "sentence_1[0].embedding.shape"
      ],
      "execution_count": 24,
      "outputs": [
        {
          "output_type": "execute_result",
          "data": {
            "text/plain": [
              "torch.Size([3172])"
            ]
          },
          "metadata": {
            "tags": []
          },
          "execution_count": 24
        }
      ]
    },
    {
      "cell_type": "code",
      "metadata": {
        "colab": {
          "base_uri": "https://localhost:8080/"
        },
        "id": "EE0U1W1GPnPu",
        "outputId": "b04610b5-5e14-47ce-8129-178532f9a185"
      },
      "source": [
        "bert_embedding.embed(sentence_2)\r\n",
        "\r\n",
        "for token in sentence_2:\r\n",
        "    print(token)\r\n",
        "    print(token.embedding)"
      ],
      "execution_count": 25,
      "outputs": [
        {
          "output_type": "stream",
          "text": [
            "Token: 1 an\n",
            "tensor([-0.4214, -0.1880,  0.4624,  ...,  1.2605,  0.8692,  0.1740])\n",
            "Token: 2 apple\n",
            "tensor([-0.5985, -0.4632,  0.1300,  ...,  1.8314,  1.0177,  0.2707])\n",
            "Token: 3 a\n",
            "tensor([-0.2709,  0.0440, -0.0203,  ...,  0.8354, -0.3497,  0.5959])\n",
            "Token: 4 day\n",
            "tensor([-0.3669,  0.4154,  0.1348,  ...,  0.9259, -0.0530,  0.1594])\n",
            "Token: 5 keeps\n",
            "tensor([-0.2821,  0.0814,  1.0041,  ...,  0.1253,  0.6754, -0.1647])\n",
            "Token: 6 the\n",
            "tensor([-0.0382, -0.2449,  0.7281,  ..., -0.1876, -0.3076,  0.5679])\n",
            "Token: 7 doctor\n",
            "tensor([ 0.0432, -0.4753,  0.1581,  ...,  0.7838,  0.3551,  0.3403])\n",
            "Token: 8 away\n",
            "tensor([-0.1038, -0.0148,  0.5993,  ...,  1.2423,  0.4363,  0.1388])\n"
          ],
          "name": "stdout"
        }
      ]
    },
    {
      "cell_type": "code",
      "metadata": {
        "colab": {
          "base_uri": "https://localhost:8080/"
        },
        "id": "gxgH3RinSYuo",
        "outputId": "860c1486-0843-4ecd-9e02-20f20862ace7"
      },
      "source": [
        "sentence_2[1]"
      ],
      "execution_count": 26,
      "outputs": [
        {
          "output_type": "execute_result",
          "data": {
            "text/plain": [
              "Token: 2 apple"
            ]
          },
          "metadata": {
            "tags": []
          },
          "execution_count": 26
        }
      ]
    },
    {
      "cell_type": "code",
      "metadata": {
        "colab": {
          "base_uri": "https://localhost:8080/"
        },
        "id": "RAjbCM10PnSP",
        "outputId": "fdd85d47-e8fe-4877-98fd-ba0eae659970"
      },
      "source": [
        "sentence_2[1].embedding"
      ],
      "execution_count": 27,
      "outputs": [
        {
          "output_type": "execute_result",
          "data": {
            "text/plain": [
              "tensor([-0.5985, -0.4632,  0.1300,  ...,  1.8314,  1.0177,  0.2707])"
            ]
          },
          "metadata": {
            "tags": []
          },
          "execution_count": 27
        }
      ]
    },
    {
      "cell_type": "code",
      "metadata": {
        "colab": {
          "base_uri": "https://localhost:8080/"
        },
        "id": "LLWXtOSRWwxT",
        "outputId": "51920e57-b631-44c6-ff03-cb0dda5fa0ec"
      },
      "source": [
        "sentence_2[1].embedding.shape"
      ],
      "execution_count": 28,
      "outputs": [
        {
          "output_type": "execute_result",
          "data": {
            "text/plain": [
              "torch.Size([3172])"
            ]
          },
          "metadata": {
            "tags": []
          },
          "execution_count": 28
        }
      ]
    },
    {
      "cell_type": "code",
      "metadata": {
        "id": "72YFcQX6QcYg"
      },
      "source": [
        "bert_dst = distance.euclidean(np.array(sentence_1[0].embedding), \r\n",
        "                               np.array(sentence_2[1].embedding))"
      ],
      "execution_count": 29,
      "outputs": []
    },
    {
      "cell_type": "code",
      "metadata": {
        "colab": {
          "base_uri": "https://localhost:8080/"
        },
        "id": "ZjY3ZEOrQcbr",
        "outputId": "1cebd9ba-daf9-4187-8247-d885243bcc0f"
      },
      "source": [
        "print(\"Distance between apple embeddings for Glove = {}\".format(bert_dst))"
      ],
      "execution_count": 30,
      "outputs": [
        {
          "output_type": "stream",
          "text": [
            "Distance between apple embeddings for Glove = 44.70344924926758\n"
          ],
          "name": "stdout"
        }
      ]
    },
    {
      "cell_type": "code",
      "metadata": {
        "id": "X0mxLYSiW1TQ"
      },
      "source": [
        ""
      ],
      "execution_count": null,
      "outputs": []
    }
  ]
}